{
 "cells": [
  {
   "cell_type": "code",
   "execution_count": 1,
   "metadata": {},
   "outputs": [],
   "source": [
    "# Import standard python libraries\n",
    "import os\n",
    "import pandas as pd\n",
    "import numpy as np\n",
    "# Import plotting functions\n",
    "import matplotlib.pyplot as plt\n",
    "import seaborn as sb\n",
    "# Import file readers\n",
    "import csv\n",
    "# Import data analyzation metrics\n",
    "from sklearn.model_selection import train_test_split\n",
    "from sklearn.model_selection import cross_val_score\n",
    "from sklearn import metrics\n",
    "from sklearn.metrics import roc_curve, auc\n",
    "from sklearn.model_selection import StratifiedKFold\n",
    "from sklearn.feature_selection import SelectKBest\n",
    "from sklearn.feature_selection import chi2"
   ]
  },
  {
   "cell_type": "code",
   "execution_count": 2,
   "metadata": {},
   "outputs": [],
   "source": [
    "# A computer scientist can adjust these metrics to change the number of significant features used \n",
    "# in calculation and change the number of features used\n",
    "\n",
    "# The number of features to work with, does not include feature label\n",
    "k_best_feats = 6\n",
    "\n",
    "# The number of bins to discretize each feature \n",
    "num_of_bins = 6\n",
    "\n",
    "# The name of the target column\n",
    "target_label = 'Label'\n",
    "\n",
    "# The name of the data csv in the input folder\n",
    "email_names_csv = 'spambasenames.csv'\n",
    "\n",
    "# The name of the column names csv in the input folder\n",
    "email_csv = 'spambase.csv'"
   ]
  },
  {
   "cell_type": "code",
   "execution_count": 3,
   "metadata": {},
   "outputs": [],
   "source": [
    "# Import a working path directory\n",
    "directory = os.getcwd()\n",
    "# Connect with input directory\n",
    "input_directory = os.path.join(directory, 'input')\n",
    "# Connect names to a data frame\n",
    "names_path = os.path.join(input_directory, email_names_csv)\n",
    "\n",
    "# Get the names of features from the csv file\n",
    "features = pd.read_csv(names_path)\n",
    "feature_names = features.columns\n",
    "spam_names = features.copy() \n",
    "\n",
    "# Append an extra column to hold the target feature\n",
    "spam_names[target_label] = []\n",
    "# Save the names as a list\n",
    "col_names = spam_names.columns\n",
    "# Create an email data frame with the given name columns\n",
    "data_path = os.path.join(input_directory, email_csv)\n",
    "\n",
    "# Create a data frame w/ spam base data set with the col names\n",
    "email_data = pd.read_csv(data_path, header=None, names=col_names, index_col=False)"
   ]
  },
  {
   "cell_type": "code",
   "execution_count": 4,
   "metadata": {},
   "outputs": [],
   "source": [
    "# PART 2A:  Read the input in the input directory and do the test_train split within the notebook\n",
    "\n",
    "# Shuffle positive and negative data sets\n",
    "df_shuffled=email_data.iloc[np.random.permutation(email_data.index)].reset_index(drop=True)\n",
    "\n",
    "# Split dataset into training set and test set.\n",
    "X_train, X_test, y_train, y_test = train_test_split(df_shuffled[feature_names], df_shuffled[target_label], test_size=0.3, random_state=1) # 70% training and 30% test"
   ]
  },
  {
   "cell_type": "code",
   "execution_count": 5,
   "metadata": {},
   "outputs": [],
   "source": [
    "# PART 2B: Preprocess any data more than what you needed to do in part 1 for your own implementation of \n",
    "# naïve bayes. Any assumptions should be documented here.\n",
    "\n",
    "# Select the k best features for predicting the word as determined by SelectKBest and chi2\n",
    "best_features = SelectKBest(chi2, k=k_best_feats)\n",
    "fit = best_features.fit(X_train, y_train)\n",
    "# Fit the features to their score\n",
    "dfscores = pd.DataFrame(fit.scores_)\n",
    "dfcolumns = pd.DataFrame(X_test.columns)\n",
    "\n",
    "# Concatenate the two dataframes for a better visualization \n",
    "feature_scores = pd.concat([dfcolumns,dfscores],axis=1)\n",
    "feature_scores.columns = ['Specs','Score']  # naming the dataframe columns\n",
    "best_features = feature_scores.nlargest(k_best_feats,'Score')['Specs'].values.tolist()\n",
    "\n",
    "# Make a new training model and test model with the best features\n",
    "new_X_train = X_train.copy()[best_features]\n",
    "new_X_test = X_test.copy()[best_features]\n",
    "    \n",
    "# Discretize the values in the train set as intervals\n",
    "for feat in best_features:\n",
    "    new_X_train[feat] = pd.qcut(new_X_train[feat], num_of_bins, duplicates='drop')"
   ]
  },
  {
   "cell_type": "code",
   "execution_count": 6,
   "metadata": {},
   "outputs": [],
   "source": [
    "# Make a dictionary which keeps the intervals of each discrete value in train set so we can \n",
    "# equally discretize the test set\n",
    "dict_names = {}\n",
    "for feat in new_X_train:\n",
    "    interval_list = pd.unique(new_X_train[feat]).tolist() \n",
    "    dict_names[feat] = interval_list\n",
    "    for i in range(len(dict_names.get(feat))):\n",
    "        new_X_train[feat] = new_X_train[feat].replace([dict_names.get(feat)[i]],i)\n",
    "        dict = dict_names"
   ]
  },
  {
   "cell_type": "code",
   "execution_count": 7,
   "metadata": {},
   "outputs": [
    {
     "name": "stderr",
     "output_type": "stream",
     "text": [
      "/opt/anaconda3/lib/python3.7/site-packages/ipykernel_launcher.py:21: SettingWithCopyWarning: \n",
      "A value is trying to be set on a copy of a slice from a DataFrame\n",
      "\n",
      "See the caveats in the documentation: http://pandas.pydata.org/pandas-docs/stable/user_guide/indexing.html#returning-a-view-versus-a-copy\n",
      "/opt/anaconda3/lib/python3.7/site-packages/ipykernel_launcher.py:31: SettingWithCopyWarning: \n",
      "A value is trying to be set on a copy of a slice from a DataFrame\n",
      "\n",
      "See the caveats in the documentation: http://pandas.pydata.org/pandas-docs/stable/user_guide/indexing.html#returning-a-view-versus-a-copy\n"
     ]
    }
   ],
   "source": [
    "# Select k features for the test set\n",
    "X_test = X_test[best_features]\n",
    "feat_list = X_test.columns.tolist()\n",
    "\n",
    "# Discretize the test set into the same intervals that qcut assigned each discrete value \n",
    "# in the train set\n",
    "for index, row in X_test.iterrows():\n",
    "    for feat in feat_list:\n",
    "        #print(\"feat\",feat)\n",
    "        # Get the info of the cell we want\n",
    "        num = X_test[feat][index]\n",
    "        #print(\"num\",num)\n",
    "        interval = dict_names[feat]\n",
    "        #print(\"list\", interval)\n",
    "        interval_len = len(interval)\n",
    "        #print(\"list length\", interval_len)\n",
    "        is_found = False\n",
    "        # Check which interval the data is in\n",
    "        for i in range(interval_len):\n",
    "            if num in interval[i]:\n",
    "                X_test[feat][index] = i\n",
    "                is_found = True\n",
    "        # If the number is too large for our intervals, assign it to the largest interval\n",
    "        if is_found == False:\n",
    "            max_interval = interval[0]\n",
    "            max_interval_index = 0\n",
    "            for j in range(interval_len):\n",
    "                if interval[j] > max_interval:\n",
    "                    max_interval_index = j\n",
    "                    max_interval = interval[j]\n",
    "            X_test[feat][index] = max_interval_index"
   ]
  },
  {
   "cell_type": "code",
   "execution_count": 8,
   "metadata": {
    "scrolled": true
   },
   "outputs": [],
   "source": [
    "# PART 2C: Code to implement naïve bayes with any exception handling. \n",
    "# Any parameters considered important should be passed to the function call such that \n",
    "# parameter tuning can be done by the data scientist while trying your function.\n",
    "\n",
    "# Important parameters: a training x set, a training y set, and to calculate probabilities\n",
    "# we must have a test x. Additionally, computer scientists can adjust the alpha in my algorithm\n",
    "# passing in the x and y test during fit. \n",
    "class NaiveBayes:\n",
    "\n",
    "    def __init__(self):\n",
    "        self.X = None\n",
    "        self.Y = None\n",
    "        self.prob_df = None\n",
    "        self.ham_prob = 0\n",
    "        self.spam_prob = 0\n",
    "        self.alpha = 1\n",
    "    \n",
    "    def fit(self, x_test_set, y_test_set, offset=1):\n",
    "        self.X = x_test_set\n",
    "        self.Y = y_test_set\n",
    "        self.alpha = offset\n",
    "        self.make_frame()\n",
    "        self.seperate_emails()\n",
    "        \n",
    "    def make_frame(self):\n",
    "        rows_list = []\n",
    "        for key, value in dict_names.items():\n",
    "            val = key\n",
    "            for i in range(len(value)):\n",
    "                feat_name = val + str(i)\n",
    "                rows_list.append(feat_name)\n",
    "        self.prob_df = pd.DataFrame(columns = rows_list)\n",
    "    \n",
    "    def seperate_emails(self):\n",
    "        # Concatenate train and test set back together\n",
    "        train_set = pd.concat([self.X, self.Y], axis=1)\n",
    "        \n",
    "        # Make a ham and spam set to calculate their own probabilities\n",
    "        ham_set = train_set.loc[train_set[target_label] == 0]\n",
    "        spam_set = train_set.loc[train_set[target_label] == 1]\n",
    "        # Calculate the instances of spam and ham\n",
    "        ham_rows = ham_set.shape[0]\n",
    "        spam_rows = spam_set.shape[0]\n",
    "        self.ham_prob = ham_rows / self.X.shape[0]\n",
    "        self.spam_prob = spam_rows / self.X.shape[0]\n",
    "\n",
    "        # Drop the label off feature df's now\n",
    "        ham_x = ham_set.drop(columns=target_label)\n",
    "        spam_x = spam_set.drop(columns=target_label)\n",
    "        # Calculate the probabilities for each word in the df\n",
    "        self.calc_probs(ham_x, ham_rows, 0)\n",
    "        self.calc_probs(spam_x, spam_rows, 1)\n",
    "\n",
    "    def calc_probs(self, x_set, rows, is_spam):\n",
    "        row_list = []\n",
    "        # Calculate the probability of each interval in the dataset\n",
    "        for feat in x_set:\n",
    "            # See how many unique features are in the col\n",
    "            bin_num = len(dict_names[feat])\n",
    "            chance = 0\n",
    "            for i in range(bin_num):\n",
    "                # Get the interval\n",
    "                interval = dict_names[feat][i]\n",
    "                # Calculate the number of occurrences of the interval\n",
    "                occurrences = x_set[feat].value_counts().iloc[i]\n",
    "                # Calculate the probability of the interval\n",
    "                chance = ((occurrences + self.alpha) / (rows + (self.alpha * bin_num)))\n",
    "                row_list.append(chance)\n",
    "        # A data frame to contain our probabilities for this label\n",
    "        self.prob_df.loc[is_spam] = row_list\n",
    "        \n",
    "    def predict_proba(self, test_set):\n",
    "        y_guess = []\n",
    "        prob_arr = []\n",
    "        feat_list = test_set.columns.tolist()\n",
    "        \n",
    "        for index, row in test_set.iterrows():\n",
    "            spam_est = self.spam_prob\n",
    "            ham_est = self.ham_prob\n",
    "            \n",
    "            for feat in feat_list:\n",
    "                cell = row[feat]\n",
    "                col_name = feat + str(int(cell))\n",
    "                ham_est *= self.prob_df[col_name][0]\n",
    "                spam_est *= self.prob_df[col_name][1]\n",
    "\n",
    "            tot = (ham_est + spam_est)\n",
    "            ham_est /= (tot)\n",
    "            spam_est /= (tot)\n",
    "            feat_probs = [ham_est, spam_est]\n",
    "            prob_arr.append(feat_probs)\n",
    "            if ham_est > spam_est:\n",
    "                y_guess.append(0)\n",
    "            else:\n",
    "                y_guess.append(1)\n",
    "        # Make a dataframe column with our y predictions\n",
    "        \n",
    "        return y_guess, prob_arr     \n",
    "\n",
    "my_nb = NaiveBayes()\n",
    "my_nb.fit(new_X_train, y_train)\n",
    "y_pred, prob_matrix = my_nb.predict_proba(X_test)"
   ]
  },
  {
   "cell_type": "code",
   "execution_count": 9,
   "metadata": {},
   "outputs": [
    {
     "name": "stdout",
     "output_type": "stream",
     "text": [
      "412 330 501 138\n"
     ]
    }
   ],
   "source": [
    "# Compare y predictions and y test and calculate true and false positives and negatives\n",
    "true_positives = 0\n",
    "false_positives = 0\n",
    "true_negatives = 0\n",
    "false_negatives = 0\n",
    "\n",
    "for i in range(len(y_pred)):\n",
    "    if (y_pred[i] == 1):\n",
    "        if (y_test.iloc[i] == 1):\n",
    "            true_positives += 1\n",
    "        else:\n",
    "            false_positives += 1\n",
    "    elif (y_pred[i] == 0):\n",
    "        if (y_test.iloc[i] == 0):\n",
    "            true_negatives += 1\n",
    "        else:\n",
    "            false_negatives += 1\n",
    "\n",
    "print(true_positives, false_positives, true_negatives, false_negatives)"
   ]
  },
  {
   "cell_type": "code",
   "execution_count": 10,
   "metadata": {},
   "outputs": [
    {
     "name": "stdout",
     "output_type": "stream",
     "text": [
      "As you can see, naive bayes is interpretable because when plotting the heat map,\n",
      "you can see some features are more correlated with the label than others. For example, \n",
      "cap len total, cap len longest, and cap len average, are highly correlated with our dataset.\n",
      "Dark red indicates a correlation with ham, whereas, green indicates a correlation w/ spam.\n"
     ]
    },
    {
     "data": {
      "image/png": "[encoded data removed]",
      "text/plain": [
       "<Figure size 1440x1440 with 2 Axes>"
      ]
     },
     "metadata": {
      "needs_background": "light"
     },
     "output_type": "display_data"
    }
   ],
   "source": [
    "# PART 2D: Is naïve bayes interpretable ? Which words are more important for spam/ham classification? \n",
    "# Provide a visual feature analysis of your model performance.\n",
    "\n",
    "data = email_data[best_features]\n",
    "X = new_X_test  # Independent features\n",
    "y = y_train    # Target column\n",
    "# Get correlations of each features in dataset\n",
    "corrmat = data.corr()\n",
    "top_corr_features = corrmat.index\n",
    "plt.figure(figsize=(20,20))\n",
    "# Plot heat map\n",
    "g=sb.heatmap(data[top_corr_features].corr(),annot=True,cmap=\"RdYlGn\")\n",
    "\n",
    "print(\"As you can see, naive bayes is interpretable because when plotting the heat map,\\n\"\n",
    "      \"you can see some features are more correlated with the label than others. For example, \\n\"\n",
    "      \"cap len total, cap len longest, and cap len average, are highly correlated with our dataset.\\n\"\n",
    "      \"Dark red indicates a correlation with ham, whereas, green indicates a correlation w/ spam.\")\n"
   ]
  },
  {
   "cell_type": "code",
   "execution_count": 11,
   "metadata": {},
   "outputs": [
    {
     "name": "stdout",
     "output_type": "stream",
     "text": [
      "Accuracy 66.11%\n",
      "Precision 55.53%\n",
      "Recall 74.91%\n",
      "Confusion Matrix:\n",
      "[412, 330]\n",
      "[138, 501]\n"
     ]
    }
   ],
   "source": [
    "# PART 2E: Output a confusion matrix from the constructed tree on the test set. \n",
    "# Compute accuracy, precision, recall and obtain an AUC plot of the classifier. You can reuse \n",
    "# any library but you have to output the data in a way that the plotting function can be invoked. \n",
    "\n",
    "# Calculate precision, accuracy, and misclassification rate\n",
    "trues = (true_positives + true_negatives)\n",
    "falses = (false_positives + false_negatives)\n",
    "accuracy = trues / (trues + falses)\n",
    "precision = true_positives / (true_positives + false_positives)\n",
    "recall = true_positives / (true_positives + false_negatives)\n",
    "matrix_top = [true_positives, false_positives]\n",
    "matrix_bot = [false_negatives, true_negatives]\n",
    "print(\"Accuracy %.2f%%\" %(accuracy*100))\n",
    "print(\"Precision %.2f%%\" %(precision*100))\n",
    "print(\"Recall %.2f%%\" %(recall*100))\n",
    "print(\"Confusion Matrix:\")\n",
    "print(matrix_top)\n",
    "print(matrix_bot)"
   ]
  },
  {
   "cell_type": "code",
   "execution_count": 12,
   "metadata": {},
   "outputs": [
    {
     "data": {
      "image/png": "[encoded data removed]",
      "text/plain": [
       "<Figure size 400x400 with 1 Axes>"
      ]
     },
     "metadata": {
      "needs_background": "light"
     },
     "output_type": "display_data"
    }
   ],
   "source": [
    "# Calculate y predictions with their scores\n",
    "y = np.array(y_pred)\n",
    "np_matrix = np.array(prob_matrix)\n",
    "scores = np_matrix[:,1]\n",
    "\n",
    "# Get roc curve\n",
    "fpr, tpr, thresholds = metrics.roc_curve(y_test, scores)\n",
    "\n",
    "# Calculate the AUC plot for both models as specificity and 1 - sensitivity\n",
    "my_auc = auc(fpr, tpr)\n",
    "# Plot a figure with the AUC for Naive Bayes and Logistic Regression\n",
    "plt.figure(figsize=(5, 5), dpi=80)\n",
    "plt.plot(fpr, tpr, linestyle='-', label='Naive Bayes (auc = %0.3f)' % my_auc)\n",
    "\n",
    "plt.plot([0, 1], [0, 1], color='pink', linestyle='--')\n",
    "\n",
    "plt.xlabel('False Positive Rate -->')\n",
    "plt.ylabel('True Positive Rate -->')\n",
    "plt.legend()\n",
    "plt.show()"
   ]
  },
  {
   "cell_type": "code",
   "execution_count": 13,
   "metadata": {},
   "outputs": [],
   "source": [
    "# CITATIONS:\n",
    "\n",
    "# On part 2b for the selectkbest and on part 2d when plotting \n",
    "# the heat map, I cite code from Raheel Shaikh at this article\n",
    "# https://towardsdatascience.com/feature-selection-techniques-in-machine-learning-with-python-f24e7da3f36e"
   ]
  }
 ],
 "metadata": {
  "kernelspec": {
   "display_name": "Python 3",
   "language": "python",
   "name": "python3"
  },
  "language_info": {
   "codemirror_mode": {
    "name": "ipython",
    "version": 3
   },
   "file_extension": ".py",
   "mimetype": "text/x-python",
   "name": "python",
   "nbconvert_exporter": "python",
   "pygments_lexer": "ipython3",
   "version": "3.7.4"
  }
 },
 "nbformat": 4,
 "nbformat_minor": 2
}
